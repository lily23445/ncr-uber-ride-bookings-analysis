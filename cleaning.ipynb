{
 "cells": [
  {
   "metadata": {},
   "cell_type": "markdown",
   "source": [
    "# 🚖 NCR Ride Bookings — Data Cleaning Script\n",
    "\n",
    "## 📌 Overview\n",
    "This notebook cleans and prepares the **NCR ride bookings dataset** for Exploratory Data Analysis (EDA).\n",
    "The raw dataset contains booking details, ride outcomes, cancellations, incompletions, and metrics such as ride distance, booking value, and ratings.\n",
    "\n",
    "## 🛠️ Cleaning Steps\n",
    "1. **Datetime Handling**\n",
    "   - Merged `Date` and `Time` into a single `Datetime` column.\n",
    "\n",
    "2. **Identifier Cleanup**\n",
    "   - Removed extra quotes from `Booking ID` and `Customer ID`.\n",
    "\n",
    "3. **Missing Value Handling**\n",
    "   - **Ride metrics (`Avg VTAT`, `Avg CTAT`, `Booking Value`, `Ride Distance`)**\n",
    "     → Set to `0` if the ride was not completed.\n",
    "   - **Payment Method**\n",
    "     → Set to `\"Not Applicable\"` if the ride was not completed.\n",
    "   - **Cancellation / Incompletion columns**\n",
    "     → Filled with `0` (counts) or `\"Not Applicable\"` (reasons) when not relevant.\n",
    "   - **Ratings (`Driver Ratings`, `Customer Rating`)**\n",
    "     → Missing values filled with `\"Not Rated\"`.\n",
    "\n",
    "4. **Categorical Cleanup**\n",
    "   - Standardized text (removed spaces, consistent casing).\n",
    "\n",
    "5. **Data Types**\n",
    "   - Ensured numeric columns are proper `float`/`int` types.\n",
    "   - Kept categorical columns as `string`.\n",
    "\n",
    "6. **Export**\n",
    "   - Final cleaned dataset is saved as:\n",
    "     ```\n",
    "     ncr_ride_bookings_cleaned.csv\n",
    "     ```\n",
    "   - Saved with `index=False` to avoid including the DataFrame index column in the file.\n",
    "\n",
    "## ✅ Result\n",
    "The output dataset is:\n",
    "- Consistent\n",
    "- Missing values logically handled\n",
    "- Ready for Exploratory Data Analysis (EDA) and feature engineering.\n",
    "\n"
   ],
   "id": "8835ba8696c4188f"
  },
  {
   "cell_type": "code",
   "id": "initial_id",
   "metadata": {
    "collapsed": true,
    "ExecuteTime": {
     "end_time": "2025-09-19T17:01:11.017491Z",
     "start_time": "2025-09-19T17:01:11.013489Z"
    }
   },
   "source": "import pandas as pd",
   "outputs": [],
   "execution_count": 46
  },
  {
   "metadata": {
    "ExecuteTime": {
     "end_time": "2025-09-19T17:01:11.415443Z",
     "start_time": "2025-09-19T17:01:11.026954Z"
    }
   },
   "cell_type": "code",
   "source": "df_raw=pd.read_csv('data/ncr_ride_bookings.csv')\n",
   "id": "82c0a3995eff7b18",
   "outputs": [],
   "execution_count": 47
  },
  {
   "metadata": {
    "ExecuteTime": {
     "end_time": "2025-09-19T17:01:11.630486Z",
     "start_time": "2025-09-19T17:01:11.423450Z"
    }
   },
   "cell_type": "code",
   "source": "df= df_raw.copy()",
   "id": "2ab2eab83bf20396",
   "outputs": [],
   "execution_count": 48
  },
  {
   "metadata": {
    "ExecuteTime": {
     "end_time": "2025-09-19T17:01:11.689918Z",
     "start_time": "2025-09-19T17:01:11.641494Z"
    }
   },
   "cell_type": "code",
   "source": [
    "print(df.shape)            # (rows, columns)\n",
    "df.sample(5, random_state=42)   # random spot-check\n"
   ],
   "id": "dabc36d0606a13e4",
   "outputs": [
    {
     "name": "stdout",
     "output_type": "stream",
     "text": [
      "(150000, 21)\n"
     ]
    },
    {
     "data": {
      "text/plain": [
       "              Date      Time    Booking ID         Booking Status  \\\n",
       "59770   2024-10-25  16:24:48  \"CNR5785058\"  Cancelled by Customer   \n",
       "21362   2024-10-03  06:15:38  \"CNR5259986\"              Completed   \n",
       "127324  2024-12-07  15:35:47  \"CNR1351335\"              Completed   \n",
       "140509  2024-12-06  21:05:39  \"CNR2033265\"              Completed   \n",
       "144297  2024-12-03  09:55:48  \"CNR4076785\"              Completed   \n",
       "\n",
       "         Customer ID   Vehicle Type    Pickup Location     Drop Location  \\\n",
       "59770   \"CID7525538\"       Go Sedan    Ashok Park Main       Rohini East   \n",
       "21362   \"CID9828317\"       Go Sedan     Samaypur Badli  Hero Honda Chowk   \n",
       "127324  \"CID9426219\"        Go Mini  Gurgaon Sector 29      Lajpat Nagar   \n",
       "140509  \"CID6253371\"        Go Mini            Sonipat            Rohini   \n",
       "144297  \"CID4419792\"  Premier Sedan       Shastri Park   Sarai Kale Khan   \n",
       "\n",
       "        Avg VTAT  Avg CTAT  ...  Reason for cancelling by Customer  \\\n",
       "59770       18.7       NaN  ...                    Change of plans   \n",
       "21362        4.2      30.1  ...                                NaN   \n",
       "127324      11.3      35.1  ...                                NaN   \n",
       "140509       8.7      42.9  ...                                NaN   \n",
       "144297       3.5      19.1  ...                                NaN   \n",
       "\n",
       "       Cancelled Rides by Driver  Driver Cancellation Reason Incomplete Rides  \\\n",
       "59770                        NaN                         NaN              NaN   \n",
       "21362                        NaN                         NaN              NaN   \n",
       "127324                       NaN                         NaN              NaN   \n",
       "140509                       NaN                         NaN              NaN   \n",
       "144297                       NaN                         NaN              NaN   \n",
       "\n",
       "        Incomplete Rides Reason Booking Value  Ride Distance  Driver Ratings  \\\n",
       "59770                       NaN           NaN            NaN             NaN   \n",
       "21362                       NaN         269.0          47.17             4.4   \n",
       "127324                      NaN         352.0           9.57             4.3   \n",
       "140509                      NaN         313.0          48.18             4.3   \n",
       "144297                      NaN         365.0          12.06             3.9   \n",
       "\n",
       "        Customer Rating  Payment Method  \n",
       "59770               NaN             NaN  \n",
       "21362               3.9            Cash  \n",
       "127324              4.3            Cash  \n",
       "140509              5.0             UPI  \n",
       "144297              3.8     Uber Wallet  \n",
       "\n",
       "[5 rows x 21 columns]"
      ],
      "text/html": [
       "<div>\n",
       "<style scoped>\n",
       "    .dataframe tbody tr th:only-of-type {\n",
       "        vertical-align: middle;\n",
       "    }\n",
       "\n",
       "    .dataframe tbody tr th {\n",
       "        vertical-align: top;\n",
       "    }\n",
       "\n",
       "    .dataframe thead th {\n",
       "        text-align: right;\n",
       "    }\n",
       "</style>\n",
       "<table border=\"1\" class=\"dataframe\">\n",
       "  <thead>\n",
       "    <tr style=\"text-align: right;\">\n",
       "      <th></th>\n",
       "      <th>Date</th>\n",
       "      <th>Time</th>\n",
       "      <th>Booking ID</th>\n",
       "      <th>Booking Status</th>\n",
       "      <th>Customer ID</th>\n",
       "      <th>Vehicle Type</th>\n",
       "      <th>Pickup Location</th>\n",
       "      <th>Drop Location</th>\n",
       "      <th>Avg VTAT</th>\n",
       "      <th>Avg CTAT</th>\n",
       "      <th>...</th>\n",
       "      <th>Reason for cancelling by Customer</th>\n",
       "      <th>Cancelled Rides by Driver</th>\n",
       "      <th>Driver Cancellation Reason</th>\n",
       "      <th>Incomplete Rides</th>\n",
       "      <th>Incomplete Rides Reason</th>\n",
       "      <th>Booking Value</th>\n",
       "      <th>Ride Distance</th>\n",
       "      <th>Driver Ratings</th>\n",
       "      <th>Customer Rating</th>\n",
       "      <th>Payment Method</th>\n",
       "    </tr>\n",
       "  </thead>\n",
       "  <tbody>\n",
       "    <tr>\n",
       "      <th>59770</th>\n",
       "      <td>2024-10-25</td>\n",
       "      <td>16:24:48</td>\n",
       "      <td>\"CNR5785058\"</td>\n",
       "      <td>Cancelled by Customer</td>\n",
       "      <td>\"CID7525538\"</td>\n",
       "      <td>Go Sedan</td>\n",
       "      <td>Ashok Park Main</td>\n",
       "      <td>Rohini East</td>\n",
       "      <td>18.7</td>\n",
       "      <td>NaN</td>\n",
       "      <td>...</td>\n",
       "      <td>Change of plans</td>\n",
       "      <td>NaN</td>\n",
       "      <td>NaN</td>\n",
       "      <td>NaN</td>\n",
       "      <td>NaN</td>\n",
       "      <td>NaN</td>\n",
       "      <td>NaN</td>\n",
       "      <td>NaN</td>\n",
       "      <td>NaN</td>\n",
       "      <td>NaN</td>\n",
       "    </tr>\n",
       "    <tr>\n",
       "      <th>21362</th>\n",
       "      <td>2024-10-03</td>\n",
       "      <td>06:15:38</td>\n",
       "      <td>\"CNR5259986\"</td>\n",
       "      <td>Completed</td>\n",
       "      <td>\"CID9828317\"</td>\n",
       "      <td>Go Sedan</td>\n",
       "      <td>Samaypur Badli</td>\n",
       "      <td>Hero Honda Chowk</td>\n",
       "      <td>4.2</td>\n",
       "      <td>30.1</td>\n",
       "      <td>...</td>\n",
       "      <td>NaN</td>\n",
       "      <td>NaN</td>\n",
       "      <td>NaN</td>\n",
       "      <td>NaN</td>\n",
       "      <td>NaN</td>\n",
       "      <td>269.0</td>\n",
       "      <td>47.17</td>\n",
       "      <td>4.4</td>\n",
       "      <td>3.9</td>\n",
       "      <td>Cash</td>\n",
       "    </tr>\n",
       "    <tr>\n",
       "      <th>127324</th>\n",
       "      <td>2024-12-07</td>\n",
       "      <td>15:35:47</td>\n",
       "      <td>\"CNR1351335\"</td>\n",
       "      <td>Completed</td>\n",
       "      <td>\"CID9426219\"</td>\n",
       "      <td>Go Mini</td>\n",
       "      <td>Gurgaon Sector 29</td>\n",
       "      <td>Lajpat Nagar</td>\n",
       "      <td>11.3</td>\n",
       "      <td>35.1</td>\n",
       "      <td>...</td>\n",
       "      <td>NaN</td>\n",
       "      <td>NaN</td>\n",
       "      <td>NaN</td>\n",
       "      <td>NaN</td>\n",
       "      <td>NaN</td>\n",
       "      <td>352.0</td>\n",
       "      <td>9.57</td>\n",
       "      <td>4.3</td>\n",
       "      <td>4.3</td>\n",
       "      <td>Cash</td>\n",
       "    </tr>\n",
       "    <tr>\n",
       "      <th>140509</th>\n",
       "      <td>2024-12-06</td>\n",
       "      <td>21:05:39</td>\n",
       "      <td>\"CNR2033265\"</td>\n",
       "      <td>Completed</td>\n",
       "      <td>\"CID6253371\"</td>\n",
       "      <td>Go Mini</td>\n",
       "      <td>Sonipat</td>\n",
       "      <td>Rohini</td>\n",
       "      <td>8.7</td>\n",
       "      <td>42.9</td>\n",
       "      <td>...</td>\n",
       "      <td>NaN</td>\n",
       "      <td>NaN</td>\n",
       "      <td>NaN</td>\n",
       "      <td>NaN</td>\n",
       "      <td>NaN</td>\n",
       "      <td>313.0</td>\n",
       "      <td>48.18</td>\n",
       "      <td>4.3</td>\n",
       "      <td>5.0</td>\n",
       "      <td>UPI</td>\n",
       "    </tr>\n",
       "    <tr>\n",
       "      <th>144297</th>\n",
       "      <td>2024-12-03</td>\n",
       "      <td>09:55:48</td>\n",
       "      <td>\"CNR4076785\"</td>\n",
       "      <td>Completed</td>\n",
       "      <td>\"CID4419792\"</td>\n",
       "      <td>Premier Sedan</td>\n",
       "      <td>Shastri Park</td>\n",
       "      <td>Sarai Kale Khan</td>\n",
       "      <td>3.5</td>\n",
       "      <td>19.1</td>\n",
       "      <td>...</td>\n",
       "      <td>NaN</td>\n",
       "      <td>NaN</td>\n",
       "      <td>NaN</td>\n",
       "      <td>NaN</td>\n",
       "      <td>NaN</td>\n",
       "      <td>365.0</td>\n",
       "      <td>12.06</td>\n",
       "      <td>3.9</td>\n",
       "      <td>3.8</td>\n",
       "      <td>Uber Wallet</td>\n",
       "    </tr>\n",
       "  </tbody>\n",
       "</table>\n",
       "<p>5 rows × 21 columns</p>\n",
       "</div>"
      ]
     },
     "execution_count": 49,
     "metadata": {},
     "output_type": "execute_result"
    }
   ],
   "execution_count": 49
  },
  {
   "metadata": {
    "ExecuteTime": {
     "end_time": "2025-09-19T17:01:11.845228Z",
     "start_time": "2025-09-19T17:01:11.736924Z"
    }
   },
   "cell_type": "code",
   "source": [
    "df['Datetime'] = pd.to_datetime(df['Date'] + \" \" + df['Time'])\n",
    "df.drop(['Date', 'Time'], axis=1, inplace=True)\n"
   ],
   "id": "d5f235ed23319383",
   "outputs": [],
   "execution_count": 50
  },
  {
   "metadata": {
    "ExecuteTime": {
     "end_time": "2025-09-19T17:01:11.916174Z",
     "start_time": "2025-09-19T17:01:11.852233Z"
    }
   },
   "cell_type": "code",
   "source": [
    "df['Booking ID'] = df['Booking ID'].str.replace('\"', '', regex=False)\n",
    "df['Customer ID'] = df['Customer ID'].str.replace('\"', '', regex=False)\n"
   ],
   "id": "6aad3ca314631ec1",
   "outputs": [],
   "execution_count": 51
  },
  {
   "metadata": {
    "ExecuteTime": {
     "end_time": "2025-09-19T17:01:11.938353Z",
     "start_time": "2025-09-19T17:01:11.922179Z"
    }
   },
   "cell_type": "code",
   "source": [
    "df['Cancelled Rides by Customer'] = df['Cancelled Rides by Customer'].fillna(0).astype(int)\n",
    "df['Reason for cancelling by Customer'] = df['Reason for cancelling by Customer'].fillna(\"Not Applicable\")"
   ],
   "id": "afaeb3a9f22bcc3e",
   "outputs": [],
   "execution_count": 52
  },
  {
   "metadata": {
    "ExecuteTime": {
     "end_time": "2025-09-19T17:01:11.961356Z",
     "start_time": "2025-09-19T17:01:11.944361Z"
    }
   },
   "cell_type": "code",
   "source": [
    "df['Cancelled Rides by Driver'] = df['Cancelled Rides by Driver'].fillna(0).astype(int)\n",
    "df['Driver Cancellation Reason'] = df['Driver Cancellation Reason'].fillna(\"Not Applicable\")"
   ],
   "id": "4f8750e7269605e6",
   "outputs": [],
   "execution_count": 53
  },
  {
   "metadata": {
    "ExecuteTime": {
     "end_time": "2025-09-19T17:01:11.983979Z",
     "start_time": "2025-09-19T17:01:11.967627Z"
    }
   },
   "cell_type": "code",
   "source": [
    "df['Incomplete Rides'] = df['Incomplete Rides'].fillna(0).astype(int)\n",
    "df['Incomplete Rides Reason'] = df['Incomplete Rides Reason'].fillna(\"Not Applicable\")"
   ],
   "id": "2f15f127a6957c3f",
   "outputs": [],
   "execution_count": 54
  },
  {
   "metadata": {
    "ExecuteTime": {
     "end_time": "2025-09-19T17:01:12.033076Z",
     "start_time": "2025-09-19T17:01:11.990983Z"
    }
   },
   "cell_type": "code",
   "source": [
    "mask_completed = df['Booking Status'] == \"Completed\"\n",
    "\n",
    "df.loc[~mask_completed, ['Avg VTAT', 'Avg CTAT', 'Booking Value',\n",
    "                         'Ride Distance']] = df.loc[~mask_completed,\n",
    "                         ['Avg VTAT', 'Avg CTAT', 'Booking Value', 'Ride Distance']].fillna(0)\n",
    "\n",
    "df.loc[~mask_completed, 'Payment Method'] = df.loc[~mask_completed, 'Payment Method'].fillna(\"Not Applicable\")"
   ],
   "id": "a43b72521fdee925",
   "outputs": [],
   "execution_count": 55
  },
  {
   "metadata": {
    "ExecuteTime": {
     "end_time": "2025-09-19T17:01:12.070374Z",
     "start_time": "2025-09-19T17:01:12.039083Z"
    }
   },
   "cell_type": "code",
   "source": [
    "df['Driver Ratings'] = df['Driver Ratings'].fillna(\"Not Rated\")\n",
    "df['Customer Rating'] = df['Customer Rating'].fillna(\"Not Rated\")\n"
   ],
   "id": "7355aa672cbef2b7",
   "outputs": [],
   "execution_count": 56
  },
  {
   "metadata": {
    "ExecuteTime": {
     "end_time": "2025-09-19T17:01:12.408378Z",
     "start_time": "2025-09-19T17:01:12.078380Z"
    }
   },
   "cell_type": "code",
   "source": [
    "cat_cols = ['Booking Status', 'Vehicle Type', 'Pickup Location',\n",
    "            'Drop Location', 'Reason for cancelling by Customer',\n",
    "            'Driver Cancellation Reason', 'Incomplete Rides Reason',\n",
    "            'Payment Method']\n",
    "\n",
    "for col in cat_cols:\n",
    "    df[col] = df[col].astype(str).str.strip().str.title()"
   ],
   "id": "1b07f31dfd59aabd",
   "outputs": [],
   "execution_count": 57
  },
  {
   "metadata": {
    "ExecuteTime": {
     "end_time": "2025-09-19T17:01:12.428912Z",
     "start_time": "2025-09-19T17:01:12.413673Z"
    }
   },
   "cell_type": "code",
   "source": [
    "num_cols = ['Avg VTAT', 'Avg CTAT', 'Booking Value', 'Ride Distance']\n",
    "df[num_cols] = df[num_cols].astype(float)"
   ],
   "id": "e34ee573507bb916",
   "outputs": [],
   "execution_count": 58
  },
  {
   "metadata": {
    "ExecuteTime": {
     "end_time": "2025-09-19T17:01:12.521916Z",
     "start_time": "2025-09-19T17:01:12.439917Z"
    }
   },
   "cell_type": "code",
   "source": "df.isnull().sum()",
   "id": "eef34c7ddca631dd",
   "outputs": [
    {
     "data": {
      "text/plain": [
       "Booking ID                           0\n",
       "Booking Status                       0\n",
       "Customer ID                          0\n",
       "Vehicle Type                         0\n",
       "Pickup Location                      0\n",
       "Drop Location                        0\n",
       "Avg VTAT                             0\n",
       "Avg CTAT                             0\n",
       "Cancelled Rides by Customer          0\n",
       "Reason for cancelling by Customer    0\n",
       "Cancelled Rides by Driver            0\n",
       "Driver Cancellation Reason           0\n",
       "Incomplete Rides                     0\n",
       "Incomplete Rides Reason              0\n",
       "Booking Value                        0\n",
       "Ride Distance                        0\n",
       "Driver Ratings                       0\n",
       "Customer Rating                      0\n",
       "Payment Method                       0\n",
       "Datetime                             0\n",
       "dtype: int64"
      ]
     },
     "execution_count": 59,
     "metadata": {},
     "output_type": "execute_result"
    }
   ],
   "execution_count": 59
  },
  {
   "metadata": {
    "ExecuteTime": {
     "end_time": "2025-09-19T17:01:13.391185Z",
     "start_time": "2025-09-19T17:01:12.529185Z"
    }
   },
   "cell_type": "code",
   "source": [
    "df.to_csv(\"ncr_ride_bookings_cleaned.csv\", index=False)\n",
    "print(\"✅ Cleaned dataset saved as 'ncr_ride_bookings_cleaned.csv'\")\n"
   ],
   "id": "820ebdf27f65a646",
   "outputs": [
    {
     "name": "stdout",
     "output_type": "stream",
     "text": [
      "✅ Cleaned dataset saved as 'ncr_ride_bookings_cleaned.csv'\n"
     ]
    }
   ],
   "execution_count": 60
  }
 ],
 "metadata": {
  "kernelspec": {
   "display_name": "Python 3",
   "language": "python",
   "name": "python3"
  },
  "language_info": {
   "codemirror_mode": {
    "name": "ipython",
    "version": 2
   },
   "file_extension": ".py",
   "mimetype": "text/x-python",
   "name": "python",
   "nbconvert_exporter": "python",
   "pygments_lexer": "ipython2",
   "version": "2.7.6"
  }
 },
 "nbformat": 4,
 "nbformat_minor": 5
}
